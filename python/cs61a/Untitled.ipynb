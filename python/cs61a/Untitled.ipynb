{
 "cells": [
  {
   "cell_type": "code",
   "execution_count": 2,
   "id": "96853c47-b1c9-4339-bf61-3d91a62d5d1c",
   "metadata": {},
   "outputs": [],
   "source": [
    "a,b =(10,20)"
   ]
  },
  {
   "cell_type": "code",
   "execution_count": 3,
   "id": "7396b0bc-416d-46fb-bd8f-cd1bf69ac8a6",
   "metadata": {},
   "outputs": [
    {
     "data": {
      "text/plain": [
       "10"
      ]
     },
     "execution_count": 3,
     "metadata": {},
     "output_type": "execute_result"
    }
   ],
   "source": [
    "a"
   ]
  },
  {
   "cell_type": "code",
   "execution_count": 5,
   "id": "5d4992ac-8dcd-4f13-9705-492684604454",
   "metadata": {},
   "outputs": [],
   "source": [
    "c,d=([1,2,3],{'name':'dzg'})"
   ]
  },
  {
   "cell_type": "code",
   "execution_count": 6,
   "id": "cd8d4117-2616-478b-a4c1-27672355e473",
   "metadata": {},
   "outputs": [
    {
     "data": {
      "text/plain": [
       "{'name': 'dzg'}"
      ]
     },
     "execution_count": 6,
     "metadata": {},
     "output_type": "execute_result"
    }
   ],
   "source": [
    "d"
   ]
  },
  {
   "cell_type": "code",
   "execution_count": null,
   "id": "71517164-c2b0-4fce-9853-fa12640aa0b1",
   "metadata": {},
   "outputs": [],
   "source": []
  }
 ],
 "metadata": {
  "kernelspec": {
   "display_name": "Python 3 (ipykernel)",
   "language": "python",
   "name": "python3"
  },
  "language_info": {
   "codemirror_mode": {
    "name": "ipython",
    "version": 3
   },
   "file_extension": ".py",
   "mimetype": "text/x-python",
   "name": "python",
   "nbconvert_exporter": "python",
   "pygments_lexer": "ipython3",
   "version": "3.9.13"
  }
 },
 "nbformat": 4,
 "nbformat_minor": 5
}
